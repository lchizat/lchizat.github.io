{
 "cells": [
  {
   "cell_type": "markdown",
   "metadata": {},
   "source": [
    "# TP0 : Notebooks et Python\n",
    "\n",
    "## 1. Introduction aux notebooks\n",
    "\n",
    "Pour lancer Jupyter, il faut, dans un terminal, lancer la commande\n",
    "\n",
    "`jupyter-notebook`\n",
    "\n",
    "Cela ouvrira automatiquement un navigateur Web dans lequel on peut travailler. L'onglet principal représente l’arborescence des fichiers depuis le fichier où la commande à été lancé.\n",
    "\n",
    "Les notebooks sont composés de cellules contenant du code (en python) ou du texte (simple ou formaté avec les balisages Markdown). Ces notebooks permettent de faire des calculs interactifs en Python, et constituent un outil de choix pour l'enseignement.\n",
    "\n",
    "On peut éditer une cellule en double-cliquant dessus, et l’évaluer en tapant **Ctrl+Entrée** (on utilisera aussi souvent **Maj.+Entrée** pour évaluer et passer à la cellule suivante). Les boutons dans la barre d’outil vous seront très utiles, survolez-les pour faire apparaître une infobulle si leur pictogramme n’est pas assez clair. N’oubliez pas de sauvegarder de temps en temps votre travail, même si Jupyter fait des sauvegardes automatiques régulières."
   ]
  },
  {
   "cell_type": "markdown",
   "metadata": {},
   "source": [
    "**Exercice** : Cliquer sur *Help -> User Interface Tour*"
   ]
  },
  {
   "cell_type": "markdown",
   "metadata": {},
   "source": [
    "**Exercice** : Supprimer la cellule suivante (On pourra regarder *Help -> Keyboard Shortcuts*) :"
   ]
  },
  {
   "cell_type": "markdown",
   "metadata": {},
   "source": [
    "----- Supprimer moi !!! ------------"
   ]
  },
  {
   "cell_type": "markdown",
   "metadata": {},
   "source": [
    "### Cellule Markdown\n",
    "Le *Markdown* est un format de texte qui accepte un minimum de formattage. Il permet de rapidement :\n",
    "- faire des liste.\n",
    "- faire des *italiques*, du **gras**, du ~~barré~~, etc.\n",
    "- faire des [liens](https://fr.wikipedia.org/wiki/Markdown)\n",
    "- écrire des formules mathématiques avec  $\\LaTeX$ (voir [ici](http://www.tuteurs.ens.fr/logiciels/latex/maths.html#s2) pour une rapide introduction à $\\LaTeX$).\n",
    "\n",
    "__Fun fact__ : L'application **WhatsApp** reconnaît le Markdown."
   ]
  },
  {
   "cell_type": "markdown",
   "metadata": {},
   "source": [
    "**Exercice** : Transformer ce *mot* de italique à gras (indice : double cliquer sur la cellule précédente)."
   ]
  },
  {
   "cell_type": "markdown",
   "metadata": {},
   "source": [
    "### Cellule Python\n",
    "La cellule suivante est une cellule python. On peut l'évaluer avec **Maj.+Entrée**."
   ]
  },
  {
   "cell_type": "code",
   "execution_count": 1,
   "metadata": {},
   "outputs": [
    {
     "name": "stdout",
     "output_type": "stream",
     "text": [
      "a = 8 et 2*a = 16\n"
     ]
    }
   ],
   "source": [
    "# Ceci est un commentaire Python\n",
    "# On prendra l'habitude de commenter son code :\n",
    "# Un code doit être lisible et compréhensible par d'autres utilisateurs\n",
    "#\n",
    "a = 8\n",
    "print(\"a =\", a, \"et 2*a =\", 2*a)"
   ]
  },
  {
   "cell_type": "code",
   "execution_count": 3,
   "metadata": {},
   "outputs": [
    {
     "ename": "SyntaxError",
     "evalue": "invalid syntax (<ipython-input-3-6b6e384a1705>, line 1)",
     "output_type": "error",
     "traceback": [
      "\u001b[0;36m  File \u001b[0;32m\"<ipython-input-3-6b6e384a1705>\"\u001b[0;36m, line \u001b[0;32m1\u001b[0m\n\u001b[0;31m    **Exercice 4** : Cette cellule doit être formaté en Markdown, pas en Python...\u001b[0m\n\u001b[0m     ^\u001b[0m\n\u001b[0;31mSyntaxError\u001b[0m\u001b[0;31m:\u001b[0m invalid syntax\n"
     ]
    }
   ],
   "source": [
    "**Exercice 4** : Cette cellule doit être formaté en Markdown, pas en Python..."
   ]
  },
  {
   "cell_type": "markdown",
   "metadata": {},
   "source": [
    "On peut obtenir de l’aide interactivement avec *Jupyter*. Par exemple, si on veut connaître ce que fait une fonction (par exemple `abs`), on peut taper soit `help(abs)`, soit `abs?`, ou encore `abs`, puis **Maj+Tab** ou **Maj+2xTab**. Cette dernière option permet aussi de connaître les différents arguments que prend la fonction.\n",
    "\n",
    "**Exercice** : Que prend en entrée `str()` ? Quelle est la différence entre `2` et `str(2)` ?"
   ]
  },
  {
   "cell_type": "code",
   "execution_count": 4,
   "metadata": {},
   "outputs": [],
   "source": [
    "str?"
   ]
  },
  {
   "cell_type": "markdown",
   "metadata": {},
   "source": [
    "### La première cellule !\n",
    "\n",
    "Au début de chaque TP, on commencera toujours par valider la cellule\n",
    "\n",
    "`%pylab inline`\n",
    "\n",
    "Cette cellule permet de charger toutes les fonctions mathématiques (librairie numpy) et d'affichage (librairie matplotlib) de Python."
   ]
  },
  {
   "cell_type": "code",
   "execution_count": 3,
   "metadata": {},
   "outputs": [
    {
     "name": "stdout",
     "output_type": "stream",
     "text": [
      "Populating the interactive namespace from numpy and matplotlib\n"
     ]
    }
   ],
   "source": [
    "%pylab inline"
   ]
  },
  {
   "cell_type": "markdown",
   "metadata": {},
   "source": [
    "## 2. Bases de Python\n",
    "\n",
    "### Structure du Python\n",
    "\n",
    "Un code python est structuré par *l’indentation*.\n",
    "\n",
    "**ATTENTION** : Les indices en Python commencent à **ZÉRO** !\n",
    "\n",
    "**ATTENTION** : On n'utilise pas de boucle *While* dans ce cours !\n",
    "\n",
    "Dans le code suivant, la commande `range(N)` renvoie la liste `[0, 1, ..., N-1]`."
   ]
  },
  {
   "cell_type": "code",
   "execution_count": 4,
   "metadata": {},
   "outputs": [
    {
     "name": "stdout",
     "output_type": "stream",
     "text": [
      "J'ai 10 morceaux de chocolat\n",
      "Si je mange 0 morceau de chocolat,\n",
      "  il en reste 10 .\n",
      "Si je mange 1 morceau de chocolat,\n",
      "  il en reste 9 .\n",
      "Si je mange 2 morceaux de chocolat,\n",
      "  il en reste 8 .\n",
      "Si je mange 3 morceaux de chocolat,\n",
      "  il en reste 7 .\n",
      "Si je mange 4 morceaux de chocolat,\n",
      "  il en reste 6 .\n",
      "Si je mange 5 morceaux de chocolat,\n",
      "  il en reste 5 .\n",
      "Si je mange 6 morceaux de chocolat,\n",
      "  il en reste 4 .\n",
      "Si je mange 7 morceaux de chocolat,\n",
      "  il en reste 3 .\n",
      "Si je mange 8 morceaux de chocolat,\n",
      "  il en reste 2 .\n",
      "Si je mange 9 morceaux de chocolat,\n",
      "  il en reste 1 .\n",
      "On est sorti de la boucle for\n"
     ]
    }
   ],
   "source": [
    "N = 10\n",
    "print(\"J'ai\", N, \"morceaux de chocolat\")\n",
    "\n",
    "for i in range(N):\n",
    "    \n",
    "    # Boucle for, l'indentation commence après les deux points\n",
    "    if i < 2: \n",
    "        \n",
    "        #Boucle if. De nouveau les deux points\n",
    "        print(\"Si je mange\", i, \"morceau de chocolat,\")\n",
    "    else: \n",
    "        #else, au même niveau d'indentation que if\n",
    "        print(\"Si je mange\", i, \"morceaux de chocolat,\") # Pluriel !!!\n",
    "    # On revient à l'indentation précédente, on est encore dans la boucle for\n",
    "    print(\"  il en reste\", N-i, \".\")\n",
    "\n",
    "# On revient à l’indentation précédente, on quitte la boucle for\n",
    "print(\"On est sorti de la boucle for\")"
   ]
  },
  {
   "cell_type": "markdown",
   "metadata": {},
   "source": [
    "**Exercice** : La cellule suivante a des erreurs de code. Corrigez les ! (On lira attentivement les messages d'erreurs)."
   ]
  },
  {
   "cell_type": "code",
   "execution_count": 5,
   "metadata": {},
   "outputs": [
    {
     "ename": "SyntaxError",
     "evalue": "invalid syntax (<ipython-input-5-e420052f0c11>, line 1)",
     "output_type": "error",
     "traceback": [
      "\u001b[0;36m  File \u001b[0;32m\"<ipython-input-5-e420052f0c11>\"\u001b[0;36m, line \u001b[0;32m1\u001b[0m\n\u001b[0;31m    for i in [12,15,6,20]\u001b[0m\n\u001b[0m                         ^\u001b[0m\n\u001b[0;31mSyntaxError\u001b[0m\u001b[0;31m:\u001b[0m invalid syntax\n"
     ]
    }
   ],
   "source": [
    "for i in [12,15,6,20]\n",
    "    if i > 12:\n",
    "        print(i,\"est vraiment plus grand que 12\")\n",
    "     else:\n",
    "        print(\"12 est plus grand que\",i)\n",
    "print(\"Bravo\")"
   ]
  },
  {
   "cell_type": "markdown",
   "metadata": {},
   "source": [
    "### Déclaration de variables"
   ]
  },
  {
   "cell_type": "code",
   "execution_count": 6,
   "metadata": {},
   "outputs": [
    {
     "name": "stdout",
     "output_type": "stream",
     "text": [
      "a =  3 et b =  4\n",
      "a =  4 et b =  3\n"
     ]
    }
   ],
   "source": [
    "a, b = 3, 4 #Raccourci pour a = 3 puis b = 4\n",
    "print(\"a = \", a, \"et b = \", b)\n",
    "a, b = b, a #Pas besoin de variables temporaires\n",
    "print(\"a = \", a, \"et b = \", b)"
   ]
  },
  {
   "cell_type": "markdown",
   "metadata": {},
   "source": [
    "### Les types\n",
    "Python connait plusieurs types (cf cellule suivante). nous reviendrons sur les types plus tard."
   ]
  },
  {
   "cell_type": "code",
   "execution_count": 9,
   "metadata": {},
   "outputs": [
    {
     "name": "stdout",
     "output_type": "stream",
     "text": [
      "a =  4 \t\t\t\t est de type <class 'int'>\n",
      "a =  3.5 \t\t\t est de type <class 'float'>\n",
      "a =  10000000.0 \t\t est de type <class 'float'>\n",
      "a =  3.141592653589793 \t\t est de type <class 'float'>\n",
      "a =  True \t\t\t est de type <class 'bool'>\n",
      "a =  Hello World! \t\t est de type <class 'str'>\n",
      "a =  [1, 2, 3] \t\t\t est de type <class 'list'>\n",
      "a =  (1.5, [1, 2], 'coucou') \t est de type <class 'tuple'>\n"
     ]
    }
   ],
   "source": [
    "#Entier\n",
    "a = 4\n",
    "print(\"a = \", a, \"\\t\\t\\t\\t est de type\", type(a))\n",
    "\n",
    "# Floatant\n",
    "a = 3.5\n",
    "print(\"a = \", a, \"\\t\\t\\t est de type\", type(a))\n",
    "a = 1e7 # Raccourci pour 10^7, --> float\n",
    "print(\"a = \", a, \"\\t\\t est de type\", type(a))\n",
    "a = pi # Python connait certaines variables standards\n",
    "print(\"a = \", a, \"\\t\\t est de type\", type(a))\n",
    "\n",
    "# Boolean\n",
    "a = True\n",
    "print(\"a = \", a, \"\\t\\t\\t est de type\", type(a))\n",
    "\n",
    "# String\n",
    "a = \"Hello World!\"\n",
    "print(\"a = \", a, \"\\t\\t est de type\", type(a))\n",
    "\n",
    "# Listes (taille variable)\n",
    "a = [1,2,3]\n",
    "print(\"a = \", a, \"\\t\\t\\t est de type\", type(a))\n",
    "\n",
    "# Tuples (taille fixe)\n",
    "a = (1.5, [1,2], \"coucou\")\n",
    "print(\"a = \", a, \"\\t est de type\", type(a))"
   ]
  },
  {
   "cell_type": "markdown",
   "metadata": {},
   "source": [
    "En plus de ces types de base, nous travaillons avec la librairie numpy, qui introduit le type array (= matrice)"
   ]
  },
  {
   "cell_type": "code",
   "execution_count": 7,
   "metadata": {},
   "outputs": [
    {
     "name": "stdout",
     "output_type": "stream",
     "text": [
      "a = \n",
      " [[ 1  2]\n",
      " [90  4]] \t\t\t est de type <class 'numpy.ndarray'>\n"
     ]
    }
   ],
   "source": [
    "# Array (matrices)\n",
    "a = array([[1,2], [90,4]])\n",
    "print(\"a = \\n\", a, \"\\t\\t\\t est de type\", type(a))"
   ]
  },
  {
   "cell_type": "markdown",
   "metadata": {},
   "source": [
    "### Opérations de base\n",
    "\n",
    "Python connait les opérations `+,-,/,*`, et plein d'autres encore. Voici quelques astuces et pièges"
   ]
  },
  {
   "cell_type": "code",
   "execution_count": 9,
   "metadata": {},
   "outputs": [
    {
     "name": "stdout",
     "output_type": "stream",
     "text": [
      "sqrt{2} =  1.4142135623730951\n",
      "17 modulo 3 =  2\n",
      "3/2 =  1.5 est un float\n",
      "a =  4\n",
      "a =  6\n"
     ]
    }
   ],
   "source": [
    "print(\"sqrt{2} = \", 2**.5) # La puissance se fait avec **\n",
    "print(\"17 modulo 3 = \", 17%3) # Avec %\n",
    "print(\"3/2 = \", 3/2, \"est un float\")\n",
    "\n",
    "a = 4\n",
    "print(\"a = \", a)\n",
    "a += 2 #Raccourci pour a = a+2 (marche aussi avec *=, /=, etc.)\n",
    "print(\"a = \", a)"
   ]
  },
  {
   "cell_type": "markdown",
   "metadata": {},
   "source": [
    "### Print\n",
    "La fonction `print` permet d'afficher des chaines de charactères (string), et les valeurs des variables."
   ]
  },
  {
   "cell_type": "code",
   "execution_count": 12,
   "metadata": {},
   "outputs": [
    {
     "name": "stdout",
     "output_type": "stream",
     "text": [
      "On peut mettre les arguments à la suite : pi = 3.141592653589793 et e =  2.718281828459045\n",
      "C'est (presque) équivalent au formattage : pi = 3.141593 et e = 2.718282\n",
      "Le formattage permet d'afficher seulement 3 chiffres : pi = 3.142, et e =2.718\n",
      "Le print d'une liste est la liste des prints :  ['pi', 3.141592653589793]\n",
      "\n",
      " On peut faire des sauts à la ligne avec \n",
      " et des tabulations avec \t.\n"
     ]
    }
   ],
   "source": [
    "print(\"On peut mettre les arguments à la suite : pi =\", pi, \"et e = \", e)\n",
    "\n",
    "#On peut formatter une ligne avec le symbole %\n",
    "print(\"C'est (presque) équivalent au formattage : pi = %f et e = %f\"%(pi, e))\n",
    "#%f pour float, %d pour int, %s pour string, etc.\n",
    "print(\"Le formattage permet d'afficher seulement 3 chiffres : pi = %.3f, et e =%.3f\"%(pi, e))\n",
    "\n",
    "print(\"Le print d'une liste est la liste des prints : \", [\"pi\", pi])\n",
    "\n",
    "print(\"\\n On peut faire des sauts à la ligne avec \\n et des tabulations avec \\t.\")"
   ]
  },
  {
   "cell_type": "markdown",
   "metadata": {},
   "source": [
    "### Booleans\n",
    "\n",
    "Les booleans ont la valeur True ou False. La commande if prend un boolean en entrée. Voici **quelques astuces**"
   ]
  },
  {
   "cell_type": "code",
   "execution_count": 13,
   "metadata": {},
   "outputs": [
    {
     "name": "stdout",
     "output_type": "stream",
     "text": [
      "cette phrase est lue\n",
      "celle là aussi\n"
     ]
    },
    {
     "ename": "AssertionError",
     "evalue": "Attention, il y a un problème",
     "output_type": "error",
     "traceback": [
      "\u001b[0;31m---------------------------------------------------------------------------\u001b[0m",
      "\u001b[0;31mAssertionError\u001b[0m                            Traceback (most recent call last)",
      "\u001b[0;32m<ipython-input-13-4a39ac2fe6b8>\u001b[0m in \u001b[0;36m<module>\u001b[0;34m()\u001b[0m\n\u001b[1;32m      7\u001b[0m \u001b[0;34m\u001b[0m\u001b[0m\n\u001b[1;32m      8\u001b[0m \u001b[0;31m# l'assertion permet d'arréter un code si une hypothèse n'est pas vérifiée\u001b[0m\u001b[0;34m\u001b[0m\u001b[0;34m\u001b[0m\u001b[0m\n\u001b[0;32m----> 9\u001b[0;31m \u001b[0;32massert\u001b[0m \u001b[0;34m(\u001b[0m\u001b[0ma\u001b[0m \u001b[0;34m==\u001b[0m \u001b[0;36m2\u001b[0m\u001b[0;34m)\u001b[0m \u001b[0;32mand\u001b[0m \u001b[0;34m(\u001b[0m\u001b[0;36m1\u001b[0m \u001b[0;34m<\u001b[0m \u001b[0;36m0\u001b[0m\u001b[0;34m)\u001b[0m\u001b[0;34m,\u001b[0m \u001b[0;34m\"Attention, il y a un problème\"\u001b[0m\u001b[0;34m\u001b[0m\u001b[0m\n\u001b[0m",
      "\u001b[0;31mAssertionError\u001b[0m: Attention, il y a un problème"
     ]
    }
   ],
   "source": [
    "a = 2\n",
    "if a == 2: # Attention, 2 signes == pour créer un boolean\n",
    "    print(\"cette phrase est lue\")\n",
    "\n",
    "if not (a != 2): # la négation se fait avec not, != signifie \"n'est pas égale à\"\n",
    "    print(\"celle là aussi\")\n",
    "\n",
    "# l'assertion permet d'arréter un code si une hypothèse n'est pas vérifiée\n",
    "assert (a == 2) and (1 < 0), \"Attention, il y a un problème\""
   ]
  },
  {
   "cell_type": "markdown",
   "metadata": {},
   "source": [
    "### Liste\n",
    "Le code en Python se veut très lisible, voici les choses à connaître :"
   ]
  },
  {
   "cell_type": "code",
   "execution_count": 14,
   "metadata": {},
   "outputs": [
    {
     "name": "stdout",
     "output_type": "stream",
     "text": [
      "La liste vide : L = [] \n",
      "\n",
      "range(5) =  range(0, 5)\n",
      "mais aussi\n",
      "range(5) = [0, 1, 2, 3, 4] \n",
      "\n",
      "Les puissances de 2 sont [1, 2, 4, 8, 16, 32, 64, 128, 256, 512, 1024]\n",
      "Les puissances de 2 sont [1, 2, 4, 8, 16, 32, 64, 128, 256, 512, 1024, 2048] \n",
      "\n",
      "Il y a 12 éléments dans cette liste.\n"
     ]
    }
   ],
   "source": [
    "#La liste vide\n",
    "L = []\n",
    "print(\"La liste vide : L =\", L, \"\\n\")\n",
    "\n",
    "# range(n) ou range(0, n) renvoie la liste (0, 1, ..., n-1) sous forme \"compacte\"\n",
    "print(\"range(5) = \", range(5))\n",
    "print(\"mais aussi\")\n",
    "print(\"range(5) =\", [i for i in range(5)], \"\\n\")\n",
    "\n",
    "# Création de liste par compréhension (plus lisible ET plus rapide !)\n",
    "puissanceDe2 = [2**n for n in range(0,11)]\n",
    "print(\"Les puissances de 2 sont\", puissanceDe2)\n",
    "\n",
    "# Ajouter un élément à une liste avec .append()\n",
    "puissanceDe2.append(2**11)\n",
    "print(\"Les puissances de 2 sont\", puissanceDe2, \"\\n\")\n",
    "\n",
    "# Connaitre la taille de la liste avec len\n",
    "print(\"Il y a\", len(puissanceDe2),\"éléments dans cette liste.\")"
   ]
  },
  {
   "cell_type": "markdown",
   "metadata": {},
   "source": [
    "On accède à un élément d'une liste avec des crochets.\n",
    "\n",
    "**Remarque :** En Python, \n",
    "- les parenthèses servent à évaluer une fonction ;\n",
    "- les crochets servent à accéder à une mémoire.\n",
    "\n",
    "On rappele que les indices commencent à 0 en Python."
   ]
  },
  {
   "cell_type": "code",
   "execution_count": 15,
   "metadata": {},
   "outputs": [
    {
     "name": "stdout",
     "output_type": "stream",
     "text": [
      "L = [1, 2, 3, 4, 5]\n",
      "Le premier élément est 1\n",
      "Le dernier élément est 5\n",
      "L contient la sous liste [2, 3, 4]\n"
     ]
    }
   ],
   "source": [
    "L = [1,2,3,4,5]\n",
    "print(\"L =\", L)\n",
    "print(\"Le premier élément est\", L[0])\n",
    "print(\"Le dernier élément est\", L[-1]) #raccourci pour le dernier élément !\n",
    "\n",
    "# On peut aussi accéder à une sous liste \n",
    "print(\"L contient la sous liste\", L[1:4]) # Ici, [1:4] est un raccourci pour range(1,4), et vaut [1, 2, 3]"
   ]
  },
  {
   "cell_type": "markdown",
   "metadata": {},
   "source": [
    "## Les matrices\n",
    "\n",
    "Nous attaquons maintenant le calcul matriciel, les liste de Python ne conviennent pas (cf exemple suivant). Le bon type à utiliser est l'array. Celui-ci se trouve dans la librarie `numpy`, qu'on a déjà chargé avec notre commande `%pylab inline`."
   ]
  },
  {
   "cell_type": "code",
   "execution_count": 16,
   "metadata": {},
   "outputs": [
    {
     "name": "stdout",
     "output_type": "stream",
     "text": [
      "L = [1, 2, 3] \t\t\t\t Larray = [1 2 3]\n",
      "2*L = [1, 2, 3, 1, 2, 3] \t\t 2*Larray = [2 4 6]\n",
      "2\n"
     ]
    }
   ],
   "source": [
    "L = [1,2,3]\n",
    "Larray = array(L)\n",
    "print(\"L =\", L, \"\\t\\t\\t\\t Larray =\", Larray)\n",
    "print(\"2*L =\", 2*L, \"\\t\\t 2*Larray =\", 2*Larray)\n"
   ]
  },
  {
   "cell_type": "markdown",
   "metadata": {},
   "source": [
    "Comme pour les listes, on accède aux éléments avec des crochets. Cependant, pour une matrice, il faut maintenant 2 paires de crochets !"
   ]
  },
  {
   "cell_type": "code",
   "execution_count": 16,
   "metadata": {},
   "outputs": [
    {
     "name": "stdout",
     "output_type": "stream",
     "text": [
      "A = \n",
      " [[1 2 3]\n",
      " [4 5 6]\n",
      " [7 8 9]]\n",
      "L'élément au milieu du bas est 8\n"
     ]
    }
   ],
   "source": [
    "A = array([[1, 2, 3], [4, 5, 6], [7,8,9]])\n",
    "print(\"A = \\n\", A)\n",
    "print(\"L'élément au milieu du bas est\", A[2][1]) # de la forme A[i][j]"
   ]
  },
  {
   "cell_type": "markdown",
   "metadata": {},
   "source": [
    "### Création d'array\n",
    "Nous décrivons maintenant les différentes façons de créer un array\n",
    "\n",
    "#### Création à partir de liste"
   ]
  },
  {
   "cell_type": "code",
   "execution_count": 10,
   "metadata": {},
   "outputs": [
    {
     "name": "stdout",
     "output_type": "stream",
     "text": [
      "A = \n",
      " [[1 2 3]\n",
      " [4 5 6]\n",
      " [7 8 9]] \n",
      "\n",
      "et\n",
      "\n",
      "A.transpose() = \n",
      " [[1 4 7]\n",
      " [2 5 8]\n",
      " [3 6 9]]\n",
      "\n",
      " A = \n",
      " [[1 1 1]\n",
      " [1 2 4]\n",
      " [1 3 9]]\n"
     ]
    }
   ],
   "source": [
    "# Creation à partir d'une liste\n",
    "x = array([1,2,3]) #Ici, une seule dimension --> un vecteur\n",
    "\n",
    "# On obtient une matrice avec une liste de liste\n",
    "# Dans ce cas, les matrices sont définies \"lignes par lignes\"\n",
    "A = array([[1,2,3], [4,5,6], [7,8,9]])\n",
    "print(\"A = \\n\", A, \"\\n\\net\\n\\nA.transpose() = \\n\", A.transpose())\n",
    "\n",
    "# On peut aussi définir \"par compréhension\" (plus lisible et plus rapide)\n",
    "# Ici, une matrice de Vandermonde\n",
    "A = array([[i**j for j in range(3)] for i in range(1,4)])\n",
    "print(\"\\n A = \\n\", A)"
   ]
  },
  {
   "cell_type": "markdown",
   "metadata": {},
   "source": [
    "#### Les matrices de base\n",
    "Python connait un certain nombre de matrices de référence. Nous utiliserons souvent les matrices suivantes."
   ]
  },
  {
   "cell_type": "code",
   "execution_count": 12,
   "metadata": {},
   "outputs": [
    {
     "name": "stdout",
     "output_type": "stream",
     "text": [
      "A = \n",
      " [[0. 0. 0.]\n",
      " [0. 0. 0.]]\n",
      "\n",
      "B = \n",
      " [[1. 1. 1.]\n",
      " [1. 1. 1.]]\n",
      "\n",
      " A = \n",
      " [[1. 0. 0.]\n",
      " [0. 1. 0.]\n",
      " [0. 0. 1.]]\n"
     ]
    }
   ],
   "source": [
    "# La matrice nulle prend des dimensions en entrée :\n",
    "A = zeros([2,3]) #de taille 2 x 3.\n",
    "print (\"A = \\n\", A)\n",
    "\n",
    "# La matrice avec que des 1 :\n",
    "B = ones([2,3]) \n",
    "print (\"\\nB = \\n\", B)\n",
    "\n",
    "# La matrice identité est carrée et ne prend qu'un seul paramètre :\n",
    "A = eye(3) \n",
    "print(\"\\n A = \\n\", A)"
   ]
  },
  {
   "cell_type": "markdown",
   "metadata": {},
   "source": [
    "### Le calcul matriciel.\n",
    "\n",
    "**ATTENTION**, le produit de base de Python est le produit terme à terme, alors que le produit matriciel se fait avec dot."
   ]
  },
  {
   "cell_type": "code",
   "execution_count": 19,
   "metadata": {},
   "outputs": [
    {
     "name": "stdout",
     "output_type": "stream",
     "text": [
      "x = [1 2 3] y = [4 5 6] , x*y = [ 4 10 18] et dot(x,y) = 32\n"
     ]
    }
   ],
   "source": [
    "x = array([1,2,3])\n",
    "y = array([4,5,6])\n",
    "print (\"x =\", x, \"y =\", y, \", x*y =\", x*y, \"et dot(x,y) =\", dot(x,y))"
   ]
  },
  {
   "cell_type": "markdown",
   "metadata": {},
   "source": [
    "**ATTENTION** Python fait la différence entre 1 et la matrice identité."
   ]
  },
  {
   "cell_type": "code",
   "execution_count": 20,
   "metadata": {},
   "outputs": [
    {
     "name": "stdout",
     "output_type": "stream",
     "text": [
      "A + 1 =\n",
      " [[ 2.  1.  1.]\n",
      " [ 1.  2.  1.]\n",
      " [ 1.  1.  2.]]\n"
     ]
    }
   ],
   "source": [
    "A = eye(3)\n",
    "print(\"A + 1 =\\n\", A + 1)"
   ]
  },
  {
   "cell_type": "markdown",
   "metadata": {},
   "source": [
    "Python connait les fonctions \"usuelles\", à savoir déterminant, trace, norm, inv, ... On peut aussi résoudre des systèmes avec solve."
   ]
  },
  {
   "cell_type": "code",
   "execution_count": 21,
   "metadata": {},
   "outputs": [
    {
     "name": "stdout",
     "output_type": "stream",
     "text": [
      "On a bien | Ax - b | =  0.0\n"
     ]
    }
   ],
   "source": [
    "A = array([[(i-j)**2 for j in range(3)] for i in range(3)])\n",
    "b = array([0,0,1])\n",
    "x = solve(A,b) # La solution de Ax = b\n",
    "\n",
    "print(\"On a bien | Ax - b | = \", norm(dot(A,x) - b))"
   ]
  },
  {
   "cell_type": "markdown",
   "metadata": {},
   "source": [
    "**Exercice** : Que vaut exp(eye(3)) ? Comment créer l'exponentielle de eye(3) ?"
   ]
  },
  {
   "cell_type": "markdown",
   "metadata": {},
   "source": [
    "## Les graphiques\n",
    "On utilise matplotlib pour tracer les graphiques. Là aussi, les fonctions sont directement accessible grâce à la directive `%pylab` initiale.\n",
    "\n",
    "La commande de base est `plot(x,y)` où $x$ et $y$ sont des listes/array de même taille. En pratique, si on veut que $x$ représente l'intervalle $[a,b]$, on pourra utiliser la commande `linspace`."
   ]
  },
  {
   "cell_type": "code",
   "execution_count": 22,
   "metadata": {
    "collapsed": true
   },
   "outputs": [],
   "source": [
    "linspace?"
   ]
  },
  {
   "cell_type": "markdown",
   "metadata": {},
   "source": [
    "Voici un exemple complet pour afficher le graphe d'une fonction $f$."
   ]
  },
  {
   "cell_type": "code",
   "execution_count": 14,
   "metadata": {},
   "outputs": [
    {
     "data": {
      "text/plain": [
       "Text(0.5,0,'x')"
      ]
     },
     "execution_count": 14,
     "metadata": {},
     "output_type": "execute_result"
    },
    {
     "data": {
      "image/png": "[encoded data removed]",
      "text/plain": [
       "<Figure size 432x288 with 1 Axes>"
      ]
     },
     "metadata": {},
     "output_type": "display_data"
    }
   ],
   "source": [
    "def f(x) : return x**4 - cos(2*pi*x) # La fonction f\n",
    "\n",
    "xx=linspace(-1,1,100) # 100 points entre -1 et 1\n",
    "plot(xx, f(xx), 'r') # 'r' pour red\n",
    "\n",
    "axis('equal') # pour avoir la même échelle dans les deux axes\n",
    "title(\"le graphe de $f$\") # Les titres acceptent le Latex !\n",
    "legend(\"f\")\n",
    "xlabel(\"x\")"
   ]
  },
  {
   "cell_type": "markdown",
   "metadata": {},
   "source": [
    "**Remarque** : Ici, j'utilise la convention `xx` pour désigner l'intervalle dans lequel vit `x`\n",
    ". C'est une convention personnelle : pour moi, une variable doublée signifie toujours l'espace dans lequel vit la variable non doublée."
   ]
  },
  {
   "cell_type": "markdown",
   "metadata": {},
   "source": [
    "On peut aussi tracer facilement des courbes paramétrées. Pour tracer la courbe\n",
    "$$\n",
    "    c(t) = (\\sin^3(t), \\cos(t) - \\cos^4(t)),\n",
    "$$\n",
    "on peut utiliser le code suivant."
   ]
  },
  {
   "cell_type": "code",
   "execution_count": 24,
   "metadata": {},
   "outputs": [
    {
     "data": {
      "text/plain": [
       "<matplotlib.text.Text at 0x113e4f940>"
      ]
     },
     "execution_count": 24,
     "metadata": {},
     "output_type": "execute_result"
    },
    {
     "data": {
      "image/png": "[encoded data removed]",
      "text/plain": [
       "<matplotlib.figure.Figure at 0x11303d048>"
      ]
     },
     "metadata": {},
     "output_type": "display_data"
    }
   ],
   "source": [
    "tt = linspace(0, 2*pi, 100)\n",
    "xx = sin(tt)**3 # f(liste) = liste(f) !\n",
    "yy = cos(tt) - cos(tt)**4\n",
    "\n",
    "plot(xx,yy)\n",
    "axis(\"equal\")\n",
    "title(\"Le coeur de Laporte (1993)\")"
   ]
  },
  {
   "cell_type": "markdown",
   "metadata": {},
   "source": [
    "Enfin, on peut tracer les courbes de niveau d'une fonction à deux variables avec `contour`. Ici, on trace par exemple les courbes de niveau de \n",
    "$$\n",
    "f(x,y) = e^{-y^2} \\sin(x-y)\n",
    "$$"
   ]
  },
  {
   "cell_type": "code",
   "execution_count": 26,
   "metadata": {},
   "outputs": [
    {
     "data": {
      "text/plain": [
       "<matplotlib.colorbar.Colorbar at 0x11409d2e8>"
      ]
     },
     "execution_count": 26,
     "metadata": {},
     "output_type": "execute_result"
    },
    {
     "data": {
      "image/png": "[encoded data removed]",
      "text/plain": [
       "<matplotlib.figure.Figure at 0x113e4c4e0>"
      ]
     },
     "metadata": {},
     "output_type": "display_data"
    }
   ],
   "source": [
    "def f(x,y): return exp(-y**2)*sin(x-y)\n",
    "\n",
    "xx =linspace(-3,3,150) # 150 points entre -3 et 3\n",
    "yy =linspace(-2,2,100) # 100 points entre -2 et 2\n",
    "\n",
    "Z = [[f(x,y) for x in xx] for y in yy] # Une liste de liste contenant les valeurs de f.\n",
    "\n",
    "contour(xx,yy,Z,30) # Afficher 30 lignes de niveau\n",
    "colorbar() # Si on veut une échelle des couleurs"
   ]
  },
  {
   "cell_type": "markdown",
   "metadata": {
    "collapsed": true
   },
   "source": [
    "Note : ce Notebook a fortement été inspiré de celui d'Amic Frouvelle et de David Gontier (U. Paris-Dauphine)"
   ]
  },
  {
   "cell_type": "code",
   "execution_count": null,
   "metadata": {},
   "outputs": [],
   "source": []
  }
 ],
 "metadata": {
  "anaconda-cloud": {},
  "kernelspec": {
   "display_name": "Python 3",
   "language": "python",
   "name": "python3"
  },
  "language_info": {
   "codemirror_mode": {
    "name": "ipython",
    "version": 3
   },
   "file_extension": ".py",
   "mimetype": "text/x-python",
   "name": "python",
   "nbconvert_exporter": "python",
   "pygments_lexer": "ipython3",
   "version": "3.7.0"
  }
 },
 "nbformat": 4,
 "nbformat_minor": 1
}
